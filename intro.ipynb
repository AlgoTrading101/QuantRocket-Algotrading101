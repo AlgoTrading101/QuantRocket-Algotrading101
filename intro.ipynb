{
 "cells": [
  {
   "cell_type": "markdown",
   "id": "1de1eeae",
   "metadata": {},
   "source": [
    "# Obtain Historical Data"
   ]
  },
  {
   "cell_type": "code",
   "execution_count": 4,
   "id": "239a480f",
   "metadata": {
    "collapsed": true,
    "jupyter": {
     "outputs_hidden": true
    },
    "tags": []
   },
   "outputs": [
    {
     "ename": "HTTPError",
     "evalue": "('400 Client Error: BAD REQUEST for url: http://houston/history/databases/usstock-free-1d?vendor=usstock&bar_size=1+day&free=True', {'status': 'error', 'msg': 'quantrocket.v2.history.usstock-free-1d.sqlite already exists'})",
     "output_type": "error",
     "traceback": [
      "\u001b[0;31m---------------------------------------------------------------------------\u001b[0m",
      "\u001b[0;31mHTTPError\u001b[0m                                 Traceback (most recent call last)",
      "\u001b[0;32m<ipython-input-4-bb9a43990ad2>\u001b[0m in \u001b[0;36m<module>\u001b[0;34m\u001b[0m\n\u001b[1;32m      1\u001b[0m \u001b[0;32mfrom\u001b[0m \u001b[0mquantrocket\u001b[0m\u001b[0;34m.\u001b[0m\u001b[0mhistory\u001b[0m \u001b[0;32mimport\u001b[0m \u001b[0mcreate_usstock_db\u001b[0m\u001b[0;34m\u001b[0m\u001b[0;34m\u001b[0m\u001b[0m\n\u001b[0;32m----> 2\u001b[0;31m \u001b[0mcreate_usstock_db\u001b[0m\u001b[0;34m(\u001b[0m\u001b[0;34m\"usstock-free-1d\"\u001b[0m\u001b[0;34m,\u001b[0m \u001b[0mbar_size\u001b[0m\u001b[0;34m=\u001b[0m\u001b[0;34m\"1 day\"\u001b[0m\u001b[0;34m,\u001b[0m \u001b[0mfree\u001b[0m\u001b[0;34m=\u001b[0m\u001b[0;32mTrue\u001b[0m\u001b[0;34m)\u001b[0m\u001b[0;34m\u001b[0m\u001b[0;34m\u001b[0m\u001b[0m\n\u001b[0m",
      "\u001b[0;32m/opt/conda/lib/python3.8/site-packages/quantrocket/history.py\u001b[0m in \u001b[0;36mcreate_usstock_db\u001b[0;34m(code, bar_size, free, universe)\u001b[0m\n\u001b[1;32m    257\u001b[0m     \u001b[0mresponse\u001b[0m \u001b[0;34m=\u001b[0m \u001b[0mhouston\u001b[0m\u001b[0;34m.\u001b[0m\u001b[0mput\u001b[0m\u001b[0;34m(\u001b[0m\u001b[0;34m\"/history/databases/{0}\"\u001b[0m\u001b[0;34m.\u001b[0m\u001b[0mformat\u001b[0m\u001b[0;34m(\u001b[0m\u001b[0mcode\u001b[0m\u001b[0;34m)\u001b[0m\u001b[0;34m,\u001b[0m \u001b[0mparams\u001b[0m\u001b[0;34m=\u001b[0m\u001b[0mparams\u001b[0m\u001b[0;34m)\u001b[0m\u001b[0;34m\u001b[0m\u001b[0;34m\u001b[0m\u001b[0m\n\u001b[1;32m    258\u001b[0m \u001b[0;34m\u001b[0m\u001b[0m\n\u001b[0;32m--> 259\u001b[0;31m     \u001b[0mhouston\u001b[0m\u001b[0;34m.\u001b[0m\u001b[0mraise_for_status_with_json\u001b[0m\u001b[0;34m(\u001b[0m\u001b[0mresponse\u001b[0m\u001b[0;34m)\u001b[0m\u001b[0;34m\u001b[0m\u001b[0;34m\u001b[0m\u001b[0m\n\u001b[0m\u001b[1;32m    260\u001b[0m     \u001b[0;32mreturn\u001b[0m \u001b[0mresponse\u001b[0m\u001b[0;34m.\u001b[0m\u001b[0mjson\u001b[0m\u001b[0;34m(\u001b[0m\u001b[0;34m)\u001b[0m\u001b[0;34m\u001b[0m\u001b[0;34m\u001b[0m\u001b[0m\n\u001b[1;32m    261\u001b[0m \u001b[0;34m\u001b[0m\u001b[0m\n",
      "\u001b[0;32m/opt/conda/lib/python3.8/site-packages/quantrocket/houston.py\u001b[0m in \u001b[0;36mraise_for_status_with_json\u001b[0;34m(response)\u001b[0m\n\u001b[1;32m    204\u001b[0m                 \u001b[0me\u001b[0m\u001b[0;34m.\u001b[0m\u001b[0mjson_response\u001b[0m \u001b[0;34m=\u001b[0m \u001b[0;34m{\u001b[0m\u001b[0;34m}\u001b[0m\u001b[0;34m\u001b[0m\u001b[0;34m\u001b[0m\u001b[0m\n\u001b[1;32m    205\u001b[0m                 \u001b[0me\u001b[0m\u001b[0;34m.\u001b[0m\u001b[0margs\u001b[0m \u001b[0;34m=\u001b[0m \u001b[0me\u001b[0m\u001b[0;34m.\u001b[0m\u001b[0margs\u001b[0m \u001b[0;34m+\u001b[0m \u001b[0;34m(\u001b[0m\u001b[0;34m\"please check the logs for more details\"\u001b[0m\u001b[0;34m,\u001b[0m\u001b[0;34m)\u001b[0m\u001b[0;34m\u001b[0m\u001b[0;34m\u001b[0m\u001b[0m\n\u001b[0;32m--> 206\u001b[0;31m             \u001b[0;32mraise\u001b[0m \u001b[0me\u001b[0m\u001b[0;34m\u001b[0m\u001b[0;34m\u001b[0m\u001b[0m\n\u001b[0m\u001b[1;32m    207\u001b[0m \u001b[0;34m\u001b[0m\u001b[0m\n\u001b[1;32m    208\u001b[0m \u001b[0;31m# Instantiate houston so that all callers can share a TCP connection (for\u001b[0m\u001b[0;34m\u001b[0m\u001b[0;34m\u001b[0m\u001b[0;34m\u001b[0m\u001b[0m\n",
      "\u001b[0;32m/opt/conda/lib/python3.8/site-packages/quantrocket/houston.py\u001b[0m in \u001b[0;36mraise_for_status_with_json\u001b[0;34m(response)\u001b[0m\n\u001b[1;32m    196\u001b[0m         \"\"\"\n\u001b[1;32m    197\u001b[0m         \u001b[0;32mtry\u001b[0m\u001b[0;34m:\u001b[0m\u001b[0;34m\u001b[0m\u001b[0;34m\u001b[0m\u001b[0m\n\u001b[0;32m--> 198\u001b[0;31m             \u001b[0mresponse\u001b[0m\u001b[0;34m.\u001b[0m\u001b[0mraise_for_status\u001b[0m\u001b[0;34m(\u001b[0m\u001b[0;34m)\u001b[0m\u001b[0;34m\u001b[0m\u001b[0;34m\u001b[0m\u001b[0m\n\u001b[0m\u001b[1;32m    199\u001b[0m         \u001b[0;32mexcept\u001b[0m \u001b[0mrequests\u001b[0m\u001b[0;34m.\u001b[0m\u001b[0mexceptions\u001b[0m\u001b[0;34m.\u001b[0m\u001b[0mHTTPError\u001b[0m \u001b[0;32mas\u001b[0m \u001b[0me\u001b[0m\u001b[0;34m:\u001b[0m\u001b[0;34m\u001b[0m\u001b[0;34m\u001b[0m\u001b[0m\n\u001b[1;32m    200\u001b[0m             \u001b[0;32mtry\u001b[0m\u001b[0;34m:\u001b[0m\u001b[0;34m\u001b[0m\u001b[0;34m\u001b[0m\u001b[0m\n",
      "\u001b[0;32m/opt/conda/lib/python3.8/site-packages/requests/models.py\u001b[0m in \u001b[0;36mraise_for_status\u001b[0;34m(self)\u001b[0m\n\u001b[1;32m    941\u001b[0m \u001b[0;34m\u001b[0m\u001b[0m\n\u001b[1;32m    942\u001b[0m         \u001b[0;32mif\u001b[0m \u001b[0mhttp_error_msg\u001b[0m\u001b[0;34m:\u001b[0m\u001b[0;34m\u001b[0m\u001b[0;34m\u001b[0m\u001b[0m\n\u001b[0;32m--> 943\u001b[0;31m             \u001b[0;32mraise\u001b[0m \u001b[0mHTTPError\u001b[0m\u001b[0;34m(\u001b[0m\u001b[0mhttp_error_msg\u001b[0m\u001b[0;34m,\u001b[0m \u001b[0mresponse\u001b[0m\u001b[0;34m=\u001b[0m\u001b[0mself\u001b[0m\u001b[0;34m)\u001b[0m\u001b[0;34m\u001b[0m\u001b[0;34m\u001b[0m\u001b[0m\n\u001b[0m\u001b[1;32m    944\u001b[0m \u001b[0;34m\u001b[0m\u001b[0m\n\u001b[1;32m    945\u001b[0m     \u001b[0;32mdef\u001b[0m \u001b[0mclose\u001b[0m\u001b[0;34m(\u001b[0m\u001b[0mself\u001b[0m\u001b[0;34m)\u001b[0m\u001b[0;34m:\u001b[0m\u001b[0;34m\u001b[0m\u001b[0;34m\u001b[0m\u001b[0m\n",
      "\u001b[0;31mHTTPError\u001b[0m: ('400 Client Error: BAD REQUEST for url: http://houston/history/databases/usstock-free-1d?vendor=usstock&bar_size=1+day&free=True', {'status': 'error', 'msg': 'quantrocket.v2.history.usstock-free-1d.sqlite already exists'})"
     ]
    }
   ],
   "source": [
    "from quantrocket.history import create_usstock_db\n",
    "\n",
    "create_usstock_db(\"usstock-free-1d\", bar_size=\"1 day\", free=True)"
   ]
  },
  {
   "cell_type": "code",
   "execution_count": 5,
   "id": "a8d4a022",
   "metadata": {},
   "outputs": [
    {
     "data": {
      "text/plain": [
       "{'status': 'the historical data will be collected asynchronously'}"
      ]
     },
     "execution_count": 5,
     "metadata": {},
     "output_type": "execute_result"
    }
   ],
   "source": [
    "from quantrocket.history import collect_history\n",
    "\n",
    "collect_history(\"usstock-free-1d\")"
   ]
  },
  {
   "cell_type": "code",
   "execution_count": 7,
   "id": "e988f49f",
   "metadata": {},
   "outputs": [
    {
     "data": {
      "text/html": [
       "<div>\n",
       "<style scoped>\n",
       "    .dataframe tbody tr th:only-of-type {\n",
       "        vertical-align: middle;\n",
       "    }\n",
       "\n",
       "    .dataframe tbody tr th {\n",
       "        vertical-align: top;\n",
       "    }\n",
       "\n",
       "    .dataframe thead th {\n",
       "        text-align: right;\n",
       "    }\n",
       "</style>\n",
       "<table border=\"1\" class=\"dataframe\">\n",
       "  <thead>\n",
       "    <tr style=\"text-align: right;\">\n",
       "      <th></th>\n",
       "      <th>Symbol</th>\n",
       "      <th>Exchange</th>\n",
       "      <th>Country</th>\n",
       "      <th>Currency</th>\n",
       "      <th>SecType</th>\n",
       "      <th>Etf</th>\n",
       "      <th>Timezone</th>\n",
       "      <th>Name</th>\n",
       "      <th>PriceMagnifier</th>\n",
       "      <th>Multiplier</th>\n",
       "      <th>Delisted</th>\n",
       "      <th>DateDelisted</th>\n",
       "      <th>LastTradeDate</th>\n",
       "      <th>RolloverDate</th>\n",
       "    </tr>\n",
       "    <tr>\n",
       "      <th>Sid</th>\n",
       "      <th></th>\n",
       "      <th></th>\n",
       "      <th></th>\n",
       "      <th></th>\n",
       "      <th></th>\n",
       "      <th></th>\n",
       "      <th></th>\n",
       "      <th></th>\n",
       "      <th></th>\n",
       "      <th></th>\n",
       "      <th></th>\n",
       "      <th></th>\n",
       "      <th></th>\n",
       "      <th></th>\n",
       "    </tr>\n",
       "  </thead>\n",
       "  <tbody>\n",
       "    <tr>\n",
       "      <th>FIBBG000B9XRY4</th>\n",
       "      <td>AAPL</td>\n",
       "      <td>XNAS</td>\n",
       "      <td>US</td>\n",
       "      <td>USD</td>\n",
       "      <td>STK</td>\n",
       "      <td>False</td>\n",
       "      <td>America/New_York</td>\n",
       "      <td>APPLE INC</td>\n",
       "      <td>1</td>\n",
       "      <td>1</td>\n",
       "      <td>False</td>\n",
       "      <td>NaT</td>\n",
       "      <td>NaT</td>\n",
       "      <td>NaT</td>\n",
       "    </tr>\n",
       "    <tr>\n",
       "      <th>FIBBG000BFWKC0</th>\n",
       "      <td>MON</td>\n",
       "      <td>XNYS</td>\n",
       "      <td>US</td>\n",
       "      <td>USD</td>\n",
       "      <td>STK</td>\n",
       "      <td>False</td>\n",
       "      <td>America/New_York</td>\n",
       "      <td>MONSANTO CO</td>\n",
       "      <td>1</td>\n",
       "      <td>1</td>\n",
       "      <td>True</td>\n",
       "      <td>2018-06-06</td>\n",
       "      <td>NaT</td>\n",
       "      <td>NaT</td>\n",
       "    </tr>\n",
       "    <tr>\n",
       "      <th>FIBBG000BKZB36</th>\n",
       "      <td>HD</td>\n",
       "      <td>XNYS</td>\n",
       "      <td>US</td>\n",
       "      <td>USD</td>\n",
       "      <td>STK</td>\n",
       "      <td>False</td>\n",
       "      <td>America/New_York</td>\n",
       "      <td>HOME DEPOT INC</td>\n",
       "      <td>1</td>\n",
       "      <td>1</td>\n",
       "      <td>False</td>\n",
       "      <td>NaT</td>\n",
       "      <td>NaT</td>\n",
       "      <td>NaT</td>\n",
       "    </tr>\n",
       "    <tr>\n",
       "      <th>FIBBG000BMHYD1</th>\n",
       "      <td>JNJ</td>\n",
       "      <td>XNYS</td>\n",
       "      <td>US</td>\n",
       "      <td>USD</td>\n",
       "      <td>STK</td>\n",
       "      <td>False</td>\n",
       "      <td>America/New_York</td>\n",
       "      <td>JOHNSON &amp; JOHNSON</td>\n",
       "      <td>1</td>\n",
       "      <td>1</td>\n",
       "      <td>False</td>\n",
       "      <td>NaT</td>\n",
       "      <td>NaT</td>\n",
       "      <td>NaT</td>\n",
       "    </tr>\n",
       "    <tr>\n",
       "      <th>FIBBG000BPH459</th>\n",
       "      <td>MSFT</td>\n",
       "      <td>XNAS</td>\n",
       "      <td>US</td>\n",
       "      <td>USD</td>\n",
       "      <td>STK</td>\n",
       "      <td>False</td>\n",
       "      <td>America/New_York</td>\n",
       "      <td>MICROSOFT CORP</td>\n",
       "      <td>1</td>\n",
       "      <td>1</td>\n",
       "      <td>False</td>\n",
       "      <td>NaT</td>\n",
       "      <td>NaT</td>\n",
       "      <td>NaT</td>\n",
       "    </tr>\n",
       "  </tbody>\n",
       "</table>\n",
       "</div>"
      ],
      "text/plain": [
       "               Symbol Exchange Country Currency SecType    Etf  \\\n",
       "Sid                                                              \n",
       "FIBBG000B9XRY4   AAPL     XNAS      US      USD     STK  False   \n",
       "FIBBG000BFWKC0    MON     XNYS      US      USD     STK  False   \n",
       "FIBBG000BKZB36     HD     XNYS      US      USD     STK  False   \n",
       "FIBBG000BMHYD1    JNJ     XNYS      US      USD     STK  False   \n",
       "FIBBG000BPH459   MSFT     XNAS      US      USD     STK  False   \n",
       "\n",
       "                        Timezone               Name  PriceMagnifier  \\\n",
       "Sid                                                                   \n",
       "FIBBG000B9XRY4  America/New_York          APPLE INC               1   \n",
       "FIBBG000BFWKC0  America/New_York        MONSANTO CO               1   \n",
       "FIBBG000BKZB36  America/New_York     HOME DEPOT INC               1   \n",
       "FIBBG000BMHYD1  America/New_York  JOHNSON & JOHNSON               1   \n",
       "FIBBG000BPH459  America/New_York     MICROSOFT CORP               1   \n",
       "\n",
       "                Multiplier  Delisted DateDelisted LastTradeDate RolloverDate  \n",
       "Sid                                                                           \n",
       "FIBBG000B9XRY4           1     False          NaT           NaT          NaT  \n",
       "FIBBG000BFWKC0           1      True   2018-06-06           NaT          NaT  \n",
       "FIBBG000BKZB36           1     False          NaT           NaT          NaT  \n",
       "FIBBG000BMHYD1           1     False          NaT           NaT          NaT  \n",
       "FIBBG000BPH459           1     False          NaT           NaT          NaT  "
      ]
     },
     "execution_count": 7,
     "metadata": {},
     "output_type": "execute_result"
    }
   ],
   "source": [
    "from quantrocket.master import get_securities\n",
    "\n",
    "# by specifying sec_types='STK' we exclude the ETFs we obtained\n",
    "securities = get_securities(vendors=\"usstock\", sec_types=\"STK\")\n",
    "securities.head()"
   ]
  },
  {
   "cell_type": "markdown",
   "id": "a4d7d14a",
   "metadata": {},
   "source": [
    "# Create Universe"
   ]
  },
  {
   "cell_type": "code",
   "execution_count": 8,
   "id": "79a59ceb",
   "metadata": {},
   "outputs": [
    {
     "data": {
      "text/plain": [
       "{'code': 'usstock-free', 'provided': 8, 'inserted': 8, 'total_after_insert': 8}"
      ]
     },
     "execution_count": 8,
     "metadata": {},
     "output_type": "execute_result"
    }
   ],
   "source": [
    "from quantrocket.master import create_universe\n",
    "\n",
    "create_universe(\"usstock-free\", sids=securities.index.tolist())"
   ]
  },
  {
   "cell_type": "code",
   "execution_count": 9,
   "id": "7aef5ccc",
   "metadata": {},
   "outputs": [
    {
     "data": {
      "text/html": [
       "<div>\n",
       "<style scoped>\n",
       "    .dataframe tbody tr th:only-of-type {\n",
       "        vertical-align: middle;\n",
       "    }\n",
       "\n",
       "    .dataframe tbody tr th {\n",
       "        vertical-align: top;\n",
       "    }\n",
       "\n",
       "    .dataframe thead th {\n",
       "        text-align: right;\n",
       "    }\n",
       "</style>\n",
       "<table border=\"1\" class=\"dataframe\">\n",
       "  <thead>\n",
       "    <tr style=\"text-align: right;\">\n",
       "      <th></th>\n",
       "      <th>Symbol</th>\n",
       "      <th>Exchange</th>\n",
       "      <th>Name</th>\n",
       "    </tr>\n",
       "    <tr>\n",
       "      <th>Sid</th>\n",
       "      <th></th>\n",
       "      <th></th>\n",
       "      <th></th>\n",
       "    </tr>\n",
       "  </thead>\n",
       "  <tbody>\n",
       "    <tr>\n",
       "      <th>FIBBG000B9XRY4</th>\n",
       "      <td>AAPL</td>\n",
       "      <td>XNAS</td>\n",
       "      <td>APPLE INC</td>\n",
       "    </tr>\n",
       "    <tr>\n",
       "      <th>FIBBG000BKZB36</th>\n",
       "      <td>HD</td>\n",
       "      <td>XNYS</td>\n",
       "      <td>HOME DEPOT INC</td>\n",
       "    </tr>\n",
       "    <tr>\n",
       "      <th>FIBBG000BMHYD1</th>\n",
       "      <td>JNJ</td>\n",
       "      <td>XNYS</td>\n",
       "      <td>JOHNSON &amp; JOHNSON</td>\n",
       "    </tr>\n",
       "    <tr>\n",
       "      <th>FIBBG000BPH459</th>\n",
       "      <td>MSFT</td>\n",
       "      <td>XNAS</td>\n",
       "      <td>MICROSOFT CORP</td>\n",
       "    </tr>\n",
       "    <tr>\n",
       "      <th>FIBBG000GZQ728</th>\n",
       "      <td>XOM</td>\n",
       "      <td>XNYS</td>\n",
       "      <td>EXXON MOBIL CORP</td>\n",
       "    </tr>\n",
       "  </tbody>\n",
       "</table>\n",
       "</div>"
      ],
      "text/plain": [
       "               Symbol Exchange               Name\n",
       "Sid                                              \n",
       "FIBBG000B9XRY4   AAPL     XNAS          APPLE INC\n",
       "FIBBG000BKZB36     HD     XNYS     HOME DEPOT INC\n",
       "FIBBG000BMHYD1    JNJ     XNYS  JOHNSON & JOHNSON\n",
       "FIBBG000BPH459   MSFT     XNAS     MICROSOFT CORP\n",
       "FIBBG000GZQ728    XOM     XNYS   EXXON MOBIL CORP"
      ]
     },
     "execution_count": 9,
     "metadata": {},
     "output_type": "execute_result"
    }
   ],
   "source": [
    "listed_securities = securities[securities.Delisted==False]\n",
    "\n",
    "listed_securities = listed_securities[[\"Symbol\", \"Exchange\", \"Name\"]]\n",
    "listed_securities.head()"
   ]
  },
  {
   "cell_type": "code",
   "execution_count": 10,
   "id": "e1d64c3f",
   "metadata": {},
   "outputs": [
    {
     "data": {
      "text/plain": [
       "{'code': 'usstock-free-active',\n",
       " 'provided': 6,\n",
       " 'inserted': 6,\n",
       " 'total_after_insert': 6}"
      ]
     },
     "execution_count": 10,
     "metadata": {},
     "output_type": "execute_result"
    }
   ],
   "source": [
    "create_universe(\"usstock-free-active\", sids=listed_securities.index.tolist())"
   ]
  },
  {
   "cell_type": "markdown",
   "id": "5fe13fa8",
   "metadata": {},
   "source": [
    "# Collect real-time data"
   ]
  },
  {
   "cell_type": "code",
   "execution_count": 11,
   "id": "03cc3857",
   "metadata": {},
   "outputs": [
    {
     "data": {
      "text/plain": [
       "{'status': 'successfully created tick database fang-stk-tick'}"
      ]
     },
     "execution_count": 11,
     "metadata": {},
     "output_type": "execute_result"
    }
   ],
   "source": [
    "from quantrocket.realtime import create_ibkr_tick_db\n",
    "\n",
    "create_ibkr_tick_db(\"fang-stk-tick\", universes=\"fang-stk\",\n",
    "                        fields=[\n",
    "                            \"LastPrice\", \"Volume\", \"BidPrice\",\n",
    "                            \"AskPrice\", \"BidSize\", \"AskSize\"\n",
    "                        ]\n",
    "                   )"
   ]
  },
  {
   "cell_type": "code",
   "execution_count": 14,
   "id": "1fa1267e",
   "metadata": {},
   "outputs": [
    {
     "data": {
      "text/plain": [
       "{'fang-stk-tick': []}"
      ]
     },
     "execution_count": 14,
     "metadata": {},
     "output_type": "execute_result"
    }
   ],
   "source": [
    "from quantrocket.realtime import list_databases\n",
    "list_databases()"
   ]
  },
  {
   "cell_type": "code",
   "execution_count": 18,
   "id": "5d95634c",
   "metadata": {},
   "outputs": [
    {
     "data": {
      "text/plain": [
       "{'status': 'the market data will be collected until canceled'}"
      ]
     },
     "execution_count": 18,
     "metadata": {},
     "output_type": "execute_result"
    }
   ],
   "source": [
    "from quantrocket.realtime import collect_market_data\n",
    "\n",
    "collect_market_data(\"fang-stk-tick\", sids=[\"FIBBG000B9XRY4\", \"FIBBG000BDTBL9\"])"
   ]
  },
  {
   "cell_type": "code",
   "execution_count": 19,
   "id": "88056235",
   "metadata": {},
   "outputs": [
    {
     "data": {
      "text/plain": [
       "{'ibkr': {'fang-stk-tick': 2}}"
      ]
     },
     "execution_count": 19,
     "metadata": {},
     "output_type": "execute_result"
    }
   ],
   "source": [
    "from quantrocket.realtime import get_active_collections\n",
    "\n",
    "get_active_collections()"
   ]
  },
  {
   "cell_type": "code",
   "execution_count": 20,
   "id": "c303fe5c",
   "metadata": {},
   "outputs": [
    {
     "name": "stdout",
     "output_type": "stream",
     "text": [
      "\u001b[1;37mquantrocket_account_1|can't yet collect ECB exchange rates because no base currencies found in quantrocket.v2.account.balance.sqlite\u001b[0m\n",
      "\u001b[1;36mquantrocket_houston_1|172.19.0.2 - - [02/Sep/2022:18:07:53 +0000] \"GET /ibg1/gateway HTTP/1.1\" 200 22 \"-\" \"python-requests/2.25.1\"\u001b[0m\n",
      "\u001b[1;36mquantrocket_houston_1|172.19.0.22 - - [02/Sep/2022:18:07:53 +0000] \"GET /ibgrouter/gateways?status=running HTTP/1.1\" 200 3 \"-\" \"python-urllib3/1.26.6\"\u001b[0m\n",
      "\u001b[1;35mquantrocket_license-service_1|fetching license profile for 727c........5a67\u001b[0m\n",
      "\u001b[1;36m        quantrocket_houston_1|172.19.0.2 - - [02/Sep/2022:18:08:21 +0000] \"GET /ibg1/gateway HTTP/1.1\" 200 22 \"-\" \"python-requests/2.25.1\"\u001b[0m\n",
      "\u001b[1;36m        quantrocket_houston_1|172.19.0.22 - - [02/Sep/2022:18:08:21 +0000] \"GET /ibgrouter/gateways?status=running HTTP/1.1\" 200 3 \"-\" \"python-urllib3/1.26.6\"\u001b[0m\n",
      "\u001b[1;36m        quantrocket_houston_1|172.19.0.2 - - [02/Sep/2022:18:08:53 +0000] \"GET /ibg1/gateway HTTP/1.1\" 200 22 \"-\" \"python-requests/2.25.1\"\u001b[0m\n",
      "\u001b[1;36m        quantrocket_houston_1|172.19.0.22 - - [02/Sep/2022:18:08:53 +0000] \"GET /ibgrouter/gateways?status=running HTTP/1.1\" 200 3 \"-\" \"python-urllib3/1.26.6\"\u001b[0m\n",
      "\u001b[1;36m        quantrocket_houston_1|172.19.0.7 - - [02/Sep/2022:18:09:09 +0000] \"POST /ibgrouter/registration/ibg1 HTTP/1.1\" 200 5 \"-\" \"python-requests/2.25.1\"\u001b[0m\n",
      "\u001b[1;37m        quantrocket_account_1|can't yet collect ECB exchange rates because no base currencies found in quantrocket.v2.account.balance.sqlite\u001b[0m\n",
      "\u001b[1;34m        quantrocket_jupyter_1|[I 18:09:21.125 NotebookApp] Kernel interrupted: 41668358-1e3b-4a60-ac85-6c461d34cf69\u001b[0m\n",
      "^C\n"
     ]
    }
   ],
   "source": [
    "!quantrocket flightlog stream -d"
   ]
  },
  {
   "cell_type": "code",
   "execution_count": 22,
   "id": "36bc2690",
   "metadata": {},
   "outputs": [
    {
     "data": {
      "text/plain": [
       "{}"
      ]
     },
     "execution_count": 22,
     "metadata": {},
     "output_type": "execute_result"
    }
   ],
   "source": [
    "from quantrocket.realtime import cancel_market_data\n",
    "\n",
    "cancel_market_data(cancel_all=True)"
   ]
  }
 ],
 "metadata": {
  "kernelspec": {
   "display_name": "Python 3",
   "language": "python",
   "name": "python3"
  },
  "language_info": {
   "codemirror_mode": {
    "name": "ipython",
    "version": 3
   },
   "file_extension": ".py",
   "mimetype": "text/x-python",
   "name": "python",
   "nbconvert_exporter": "python",
   "pygments_lexer": "ipython3",
   "version": "3.8.5"
  }
 },
 "nbformat": 4,
 "nbformat_minor": 5
}
