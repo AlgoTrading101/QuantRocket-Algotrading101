{
 "cells": [
  {
   "cell_type": "markdown",
   "id": "b5a3ba37",
   "metadata": {},
   "source": [
    "# Orders"
   ]
  },
  {
   "cell_type": "code",
   "execution_count": null,
   "id": "eff5b706",
   "metadata": {},
   "outputs": [],
   "source": [
    "from quantrocket.blotter import place_orders\n",
    "\n",
    "orders = []\n",
    "order1 = {\n",
    "        \"Sid\": \"FIBBG000B9XRY4\",\n",
    "        \"Account\": \"XXXXX\",\n",
    "        \"Action\": \"SELL\",\n",
    "        \"OrderRef\": \"dma-tech\",\n",
    "        \"TotalQuantity\": 150,\n",
    "        \"Exchange\": \"SMART\",\n",
    "        \"OrderType\": \"MKT\",\n",
    "        \"Tif\": \"DAY\"\n",
    "    }\n",
    "\n",
    "orders.append(order1)\n",
    "order2 = {\n",
    "        \"Sid\": \"FIBBG000BVPV84\",\n",
    "        \"Account\": \"XXXXX\",\n",
    "        \"Action\": \"BUY\",\n",
    "        \"OrderRef\": \"dma-tech\",\n",
    "        \"TotalQuantity\": 200,\n",
    "        \"Exchange\": \"SMART\",\n",
    "        \"OrderType\": \"MKT\",\n",
    "        \"Tif\": \"DAY\"\n",
    "    }\n",
    "\n",
    "orders.append(order2)\n",
    "order_ids = place_orders(orders)"
   ]
  },
  {
   "cell_type": "code",
   "execution_count": null,
   "id": "7c2c5cf8",
   "metadata": {},
   "outputs": [],
   "source": [
    "from quantrocket.blotter import cancel_orders\n",
    "\n",
    "cancel_orders(order_refs=[\"my-order\"])"
   ]
  },
  {
   "cell_type": "code",
   "execution_count": null,
   "id": "02470919",
   "metadata": {},
   "outputs": [],
   "source": [
    "cancel_orders(cancel_all=True)"
   ]
  }
 ],
 "metadata": {
  "kernelspec": {
   "display_name": "Python 3",
   "language": "python",
   "name": "python3"
  },
  "language_info": {
   "codemirror_mode": {
    "name": "ipython",
    "version": 3
   },
   "file_extension": ".py",
   "mimetype": "text/x-python",
   "name": "python",
   "nbconvert_exporter": "python",
   "pygments_lexer": "ipython3",
   "version": "3.8.5"
  }
 },
 "nbformat": 4,
 "nbformat_minor": 5
}
